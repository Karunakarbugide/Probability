{
 "cells": [
  {
   "cell_type": "code",
   "execution_count": 4,
   "id": "d7ec47cf-f73d-4c5d-95f3-2f3cde60d245",
   "metadata": {},
   "outputs": [],
   "source": [
    "name='Hello Divya'"
   ]
  },
  {
   "cell_type": "code",
   "execution_count": 3,
   "id": "344cc05f-f8ba-41a4-9c89-d343659da345",
   "metadata": {},
   "outputs": [
    {
     "name": "stdout",
     "output_type": "stream",
     "text": [
      "hello Divya\n"
     ]
    }
   ],
   "source": [
    "print(name)"
   ]
  },
  {
   "cell_type": "code",
   "execution_count": null,
   "id": "10660fe8",
   "metadata": {},
   "outputs": [],
   "source": []
  }
 ],
 "metadata": {
  "kernelspec": {
   "display_name": "Python 3",
   "language": "python",
   "name": "python3"
  },
  "language_info": {
   "codemirror_mode": {
    "name": "ipython",
    "version": 3
   },
   "file_extension": ".py",
   "mimetype": "text/x-python",
   "name": "python",
   "nbconvert_exporter": "python",
   "pygments_lexer": "ipython3",
   "version": "3.8.8"
  }
 },
 "nbformat": 4,
 "nbformat_minor": 5
}
