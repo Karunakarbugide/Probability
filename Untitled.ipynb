{
 "cells": [
  {
   "cell_type": "markdown",
   "id": "58daa841",
   "metadata": {},
   "source": [
    "# <center>Probability and Statistics for Machine Learning<center/> \n",
    "<img height=\"60\" width=\"120\" src=\"https://miro.medium.com/max/11026/1*PilXexSefB8nSdqVeHZgSg.jpeg\"></img>"
   ]
  },
  {
   "cell_type": "markdown",
   "id": "9df1b140",
   "metadata": {},
   "source": [
    "Machine Learning is an interdisiplinary filed that uses statistics, probability, algorithms to learn from data and provide insights which can be used to build intelligent application. \n",
    "\n",
    "Probability and statistics are related areas of mathematics which concern themselves with analyzing the relative frequency of events.\n",
    "\n",
    "***\n",
    "*Probability deals with predicting the likelyhood of future events, while statistics involves the analysis of the frequency of the past events.*\n",
    "***"
   ]
  },
  {
   "cell_type": "code",
   "execution_count": null,
   "id": "c0ce2380",
   "metadata": {},
   "outputs": [],
   "source": []
  },
  {
   "cell_type": "markdown",
   "id": "26f0eb55",
   "metadata": {},
   "source": [
    "# Normal Distribution (Gaussian Distribution)"
   ]
  },
  {
   "cell_type": "code",
   "execution_count": null,
   "id": "8df5dac5",
   "metadata": {},
   "outputs": [],
   "source": []
  },
  {
   "cell_type": "markdown",
   "id": "7b093c01",
   "metadata": {},
   "source": [
    "The data when tend to be around a central value is called **Normal Distribution**\n",
    "\n",
    "Samples of a ideal Gaussian distribution (aka normal distribution or bell curve) follow curve distribution meaning values are more likelu around mean over extremes."
   ]
  },
  {
   "cell_type": "code",
   "execution_count": null,
   "id": "10660fe8",
   "metadata": {},
   "outputs": [],
   "source": []
  }
 ],
 "metadata": {
  "kernelspec": {
   "display_name": "Python 3",
   "language": "python",
   "name": "python3"
  },
  "language_info": {
   "codemirror_mode": {
    "name": "ipython",
    "version": 3
   },
   "file_extension": ".py",
   "mimetype": "text/x-python",
   "name": "python",
   "nbconvert_exporter": "python",
   "pygments_lexer": "ipython3",
   "version": "3.8.8"
  }
 },
 "nbformat": 4,
 "nbformat_minor": 5
}
